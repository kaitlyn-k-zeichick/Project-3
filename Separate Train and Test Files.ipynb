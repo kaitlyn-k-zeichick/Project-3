{
 "cells": [
  {
   "cell_type": "code",
   "execution_count": 1,
   "metadata": {},
   "outputs": [],
   "source": [
    "import pandas as pd\n",
    "import seaborn as sns"
   ]
  },
  {
   "cell_type": "code",
   "execution_count": 2,
   "metadata": {},
   "outputs": [],
   "source": [
    "#Import features and target files\n",
    "features = pd.read_csv('pump_features.csv')\n",
    "target = pd.read_csv('pump_target.csv')\n",
    "\n",
    "#Merge features and target into single dataframe\n",
    "df = features.merge(target, left_on='id', right_on='id')"
   ]
  },
  {
   "cell_type": "code",
   "execution_count": 3,
   "metadata": {},
   "outputs": [
    {
     "name": "stdout",
     "output_type": "stream",
     "text": [
      "Shape of new dataframes - (47520, 41) , (11880, 41)\n"
     ]
    }
   ],
   "source": [
    "#Split into 80-20 training data and test data.\n",
    "eighty_percent = int(len(df.index)*.8)\n",
    "train = df.iloc[:eighty_percent]\n",
    "test = df.iloc[eighty_percent:]\n",
    "print(\"Shape of new dataframes - {} , {}\".format(train.shape, test.shape)) \n",
    "\n",
    "train.to_csv('train_data.csv')\n",
    "test.to_csv('test_data.csv')"
   ]
  }
 ],
 "metadata": {
  "kernelspec": {
   "display_name": "Python 3",
   "language": "python",
   "name": "python3"
  },
  "language_info": {
   "codemirror_mode": {
    "name": "ipython",
    "version": 3
   },
   "file_extension": ".py",
   "mimetype": "text/x-python",
   "name": "python",
   "nbconvert_exporter": "python",
   "pygments_lexer": "ipython3",
   "version": "3.6.8"
  }
 },
 "nbformat": 4,
 "nbformat_minor": 2
}
